{
 "cells": [
  {
   "cell_type": "code",
   "execution_count": 1,
   "metadata": {},
   "outputs": [],
   "source": [
    "import os\n",
    "import cv2\n",
    "import numpy as np\n",
    "from matplotlib import pyplot as plt\n",
    "\n",
    "import concurrent.futures"
   ]
  },
  {
   "cell_type": "code",
   "execution_count": 2,
   "metadata": {},
   "outputs": [],
   "source": [
    "def rotate_bound(image, angle):\n",
    "    # grab the dimensions of the image and then determine the\n",
    "    # center\n",
    "    (h, w) = image.shape[:2]\n",
    "    (cX, cY) = (w // 2, h // 2)\n",
    "    # grab the rotation matrix (applying the negative of the\n",
    "    # angle to rotate clockwise), then grab the sine and cosine\n",
    "    # (i.e., the rotation components of the matrix)\n",
    "    M = cv2.getRotationMatrix2D((cX, cY), -angle, 1.0)\n",
    "    cos = np.abs(M[0, 0])\n",
    "    sin = np.abs(M[0, 1])\n",
    "    # compute the new bounding dimensions of the image\n",
    "    nW = int((h * sin) + (w * cos))\n",
    "    nH = int((h * cos) + (w * sin))\n",
    "    # adjust the rotation matrix to take into account translation\n",
    "    M[0, 2] += (nW / 2) - cX\n",
    "    M[1, 2] += (nH / 2) - cY\n",
    "    # perform the actual rotation and return the image\n",
    "    return cv2.warpAffine(image, M, (nW, nH))"
   ]
  },
  {
   "cell_type": "code",
   "execution_count": 3,
   "metadata": {},
   "outputs": [],
   "source": [
    "mask_path = '../data'\n",
    "frames_path = '../data/tiff'\n",
    "output_path = '../data/auto_seg'"
   ]
  },
  {
   "cell_type": "code",
   "execution_count": 4,
   "metadata": {},
   "outputs": [],
   "source": [
    "frame_count = 1100\n",
    "\n",
    "angle_increment = 2\n",
    "min_angle = 10\n",
    "max_angle = 80\n",
    "\n",
    "blur_amount = 7"
   ]
  },
  {
   "cell_type": "code",
   "execution_count": 5,
   "metadata": {},
   "outputs": [
    {
     "data": {
      "image/png": "[encoded data removed]",
      "text/plain": [
       "<Figure size 432x288 with 1 Axes>"
      ]
     },
     "metadata": {},
     "output_type": "display_data"
    }
   ],
   "source": [
    "img_mask = cv2.imread(os.path.join(mask_path,'mask-1-cropped.jpg'),0)\n",
    "ret, img_mask = cv2.threshold(img_mask, 10, 255, cv2.THRESH_BINARY)\n",
    "\n",
    "plt.figure()\n",
    "plt.xticks([]),plt.yticks([])\n",
    "plt.imshow(img_mask,'gray')\n",
    "plt.show()"
   ]
  },
  {
   "cell_type": "code",
   "execution_count": 10,
   "metadata": {},
   "outputs": [],
   "source": [
    "def find_mask(frame_no):\n",
    "    # Get file name\n",
    "    file_name = \"frame-%d.jpg\" % frame_no\n",
    "    \n",
    "    # Open image and pre-process\n",
    "    img_orig = cv2.imread(os.path.join(frames_path,file_name),0)\n",
    "    img_blur = cv2.medianBlur(img_orig,blur_amount)\n",
    "    img_thresh = cv2.adaptiveThreshold(img_blur,255,cv2.ADAPTIVE_THRESH_GAUSSIAN_C,cv2.THRESH_BINARY,11,2)\n",
    "    img_thresh_inv = cv2.bitwise_not(img_thresh)\n",
    "    \n",
    "    # Init variables\n",
    "    angle = min_angle\n",
    "    images = []\n",
    "    scores = []\n",
    "    positions = []\n",
    "    \n",
    "    # Log \n",
    "    rows,cols = img_orig.shape\n",
    "    #print(\"Frame {0} has {1} rows and {2} cols\".format(i,rows,cols))\n",
    "    \n",
    "    while angle <= max_angle:\n",
    "    \n",
    "        # Rotate mask and log\n",
    "        img_mask_rotated = rotate_bound(img_mask, angle)\n",
    "        ret, img_mask_rotated = cv2.threshold(img_mask_rotated, 1, 255, cv2.THRESH_BINARY)\n",
    "        mask_rows,mask_cols = img_mask_rotated.shape\n",
    "        #print(\"Current rotation {2} degrees has {0} rows and {1} cols\".format(mask_rows,mask_cols,angle))\n",
    "    \n",
    "        # Pass image over\n",
    "        for i in range(rows):\n",
    "            if i + mask_rows > rows:\n",
    "                continue\n",
    "            for j in range(cols):\n",
    "                if j + mask_cols > cols:\n",
    "                    continue\n",
    "            \n",
    "                # Create roi\n",
    "                roi = img_thresh_inv[i:mask_rows+i,j:mask_cols+j]\n",
    "\n",
    "                # Mask with mask\n",
    "                masked = cv2.bitwise_and(roi,img_mask_rotated)\n",
    "            \n",
    "                # Save image and scores\n",
    "                images.append(masked)\n",
    "                scores.append(masked.sum())\n",
    "                positions.append([i,j,angle])\n",
    "            \n",
    "        angle += angle_increment\n",
    "    \n",
    "    max_score = np.max(scores)\n",
    "    max_index = np.argmax(scores)\n",
    "    best_position = positions[max_index]\n",
    "    \n",
    "    # Reload the best mask\n",
    "    img_mask_rotated = rotate_bound(img_mask, best_position[2])\n",
    "    ret, img_mask_rotated = cv2.threshold(img_mask_rotated, 1, 255, cv2.THRESH_BINARY)\n",
    "    mask_rows,mask_cols = img_mask_rotated.shape\n",
    "    \n",
    "    # Output mask  \n",
    "    final_mask = np.zeros(img_orig.shape)\n",
    "    final_mask[best_position[0]:mask_rows+best_position[0],best_position[1]:mask_cols+best_position[1]] = img_mask_rotated\n",
    "    \n",
    "    # Create final roi\n",
    "    roi1 = img_orig[best_position[0]:mask_rows+best_position[0],best_position[1]:mask_cols+best_position[1]]\n",
    "    masked_orig = cv2.bitwise_and(roi1,img_mask_rotated)\n",
    "    \n",
    "    # Create large image\n",
    "    final_mask_orig = np.zeros(img_orig.shape)\n",
    "    final_mask_orig[best_position[0]:mask_rows+best_position[0],best_position[1]:mask_cols+best_position[1]] = masked_orig\n",
    "    \n",
    "    # Save mask and frame to file\n",
    "    frame_name = \"frame-%d.png\" % frame_no\n",
    "    mask_name = \"mask-%d.png\" % frame_no\n",
    "    crop_name = \"crop-%d.png\" % frame_no\n",
    "    real_name = \"real-%d.png\" % frame_no\n",
    "    \n",
    "    cv2.imwrite(os.path.join(output_path,\"frames\",frame_name), img_orig)\n",
    "    cv2.imwrite(os.path.join(output_path,\"masks\",mask_name), final_mask)\n",
    "    cv2.imwrite(os.path.join(output_path,\"crops\",crop_name), masked_orig) \n",
    "    cv2.imwrite(os.path.join(output_path,\"real_masks\",real_name), final_mask_orig) \n",
    "    \n",
    "    #print(\"Frame {0}: MS={1} BP-X:{2} BP-Y:{3} BP-A:{4}\".format(frame_no,max_score,best_position[0],best_position[1],best_position[2]))    \n",
    "    return [frame_no,max_score,best_position[0],best_position[1],best_position[2]]"
   ]
  },
  {
   "cell_type": "code",
   "execution_count": null,
   "metadata": {},
   "outputs": [],
   "source": [
    "test = cv2.imread(os.path.join(mask_path,'mask-1-cropped.jpg'),0)\n",
    "plt.figure()\n",
    "plt.xticks([]),plt.yticks([])\n",
    "plt.imshow(img_mask,'gray')\n",
    "plt.show()"
   ]
  },
  {
   "cell_type": "code",
   "execution_count": 7,
   "metadata": {},
   "outputs": [],
   "source": [
    "#for frame_no in range(frame_count):\n",
    "#    result = find_mask(frame_no)\n",
    "#    print(\"Frame {0}: MS={1} BP-X:{2} BP-Y:{3} BP-A:{4}\".format(result[0],result[1],result[2],result[3],result[4]))\n",
    "#    break"
   ]
  },
  {
   "cell_type": "code",
   "execution_count": 8,
   "metadata": {},
   "outputs": [],
   "source": [
    "# run mult-threaded\n",
    "#results = []\n",
    "#frame_range = range(frame_count)\n",
    "#with concurrent.futures.ProcessPoolExecutor() as executor:\n",
    "#    futures = [executor.submit(find_mask, frame_no) for frame_no in frame_range]\n",
    "    \n",
    "#    for future in concurrent.futures.as_completed(futures):\n",
    "#        result = future.result()\n",
    "#        results.append(result)\n",
    "#        print(\"Frame {0}: MS={1} BP-X:{2} BP-Y:{3} BP-A:{4}\".format(result[0],result[1],result[2],result[3],result[4]))"
   ]
  },
  {
   "cell_type": "code",
   "execution_count": 9,
   "metadata": {},
   "outputs": [],
   "source": [
    "#print(results)\n",
    "#np.savetxt(os.path.join(output_path,\"summary.csv\"),results, header=\"frame_no,score,xpos,ypos,angle\",delimiter=\",\")"
   ]
  }
 ],
 "metadata": {
  "kernelspec": {
   "display_name": "Python 3",
   "language": "python",
   "name": "python3"
  },
  "language_info": {
   "codemirror_mode": {
    "name": "ipython",
    "version": 3
   },
   "file_extension": ".py",
   "mimetype": "text/x-python",
   "name": "python",
   "nbconvert_exporter": "python",
   "pygments_lexer": "ipython3",
   "version": "3.7.8"
  }
 },
 "nbformat": 4,
 "nbformat_minor": 4
}
