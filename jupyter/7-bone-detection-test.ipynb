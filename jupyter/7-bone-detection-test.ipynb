{
 "cells": [
  {
   "cell_type": "code",
   "execution_count": 1,
   "metadata": {},
   "outputs": [],
   "source": [
    "import os\n",
    "import cv2\n",
    "import numpy as np\n",
    "from matplotlib import pyplot as plt"
   ]
  },
  {
   "cell_type": "code",
   "execution_count": 2,
   "metadata": {},
   "outputs": [],
   "source": [
    "data_path = '../data/auto_seg_tiff/s_12_z_1/crops'"
   ]
  },
  {
   "cell_type": "code",
   "execution_count": 46,
   "metadata": {},
   "outputs": [
    {
     "name": "stdout",
     "output_type": "stream",
     "text": [
      "(34, 66)\n"
     ]
    },
    {
     "data": {
      "image/png": "[encoded data removed]",
      "text/plain": [
       "<Figure size 432x288 with 1 Axes>"
      ]
     },
     "metadata": {},
     "output_type": "display_data"
    }
   ],
   "source": [
    "img_orig = cv2.imread(os.path.join(data_path,'crop-0.png'),0)\n",
    "print(img_orig.shape)\n",
    "\n",
    "plt.figure()\n",
    "plt.xticks([]),plt.yticks([])\n",
    "plt.imshow(img_orig,'gray')\n",
    "plt.show()"
   ]
  },
  {
   "cell_type": "code",
   "execution_count": 11,
   "metadata": {},
   "outputs": [
    {
     "data": {
      "image/png": "[encoded data removed]",
      "text/plain": [
       "<Figure size 432x288 with 1 Axes>"
      ]
     },
     "metadata": {},
     "output_type": "display_data"
    }
   ],
   "source": [
    "ddepth = cv2.CV_16S\n",
    "kernel_size = 1\n",
    "dst = cv2.Laplacian(img_orig, ddepth, ksize=kernel_size)\n",
    "abs_dst = cv2.convertScaleAbs(dst)\n",
    "\n",
    "plt.figure()\n",
    "plt.xticks([]),plt.yticks([])\n",
    "plt.imshow(abs_dst,'gray')\n",
    "plt.show()"
   ]
  },
  {
   "cell_type": "code",
   "execution_count": 61,
   "metadata": {},
   "outputs": [
    {
     "data": {
      "image/png": "[encoded data removed]",
      "text/plain": [
       "<Figure size 432x288 with 1 Axes>"
      ]
     },
     "metadata": {},
     "output_type": "display_data"
    },
    {
     "data": {
      "image/png": "[encoded data removed]",
      "text/plain": [
       "<Figure size 432x288 with 1 Axes>"
      ]
     },
     "metadata": {},
     "output_type": "display_data"
    },
    {
     "data": {
      "image/png": "[encoded data removed]",
      "text/plain": [
       "<Figure size 432x288 with 1 Axes>"
      ]
     },
     "metadata": {},
     "output_type": "display_data"
    }
   ],
   "source": [
    "thresh = 200\n",
    "\n",
    "rows,cols = abs_dst.shape\n",
    "midy = np.floor(rows / 2)\n",
    "midx = np.floor(cols / 2)\n",
    "mask = np.zeros(abs_dst.shape)\n",
    "mask = cv2.convertScaleAbs(mask)\n",
    "processed = np.zeros(abs_dst.shape)\n",
    "\n",
    "toprocess = [[int(midy),int(midx)]]\n",
    "while len(toprocess) > 0:\n",
    "    coord = toprocess.pop(0)\n",
    "    mask[coord[0]][coord[1]] = 255\n",
    "    processed[coord[0]][coord[1]] = 1\n",
    "    \n",
    "    # Find adjacent pixels\n",
    "    adjacent = []\n",
    "    if coord[0] != 0:\n",
    "        adjacent.append([coord[0] - 1, coord[1]])\n",
    "    if coord[0] != rows - 1:\n",
    "        adjacent.append([coord[0] + 1, coord[1]])\n",
    "    if coord[1] != 0:\n",
    "        adjacent.append([coord[0], coord[1] - 1])\n",
    "    if coord[1] != cols - 1:\n",
    "        adjacent.append([coord[0], coord[1] + 1])\n",
    "        \n",
    "    # See if they should be added\n",
    "    for i in range(len(adjacent)):        \n",
    "        test_coord = adjacent[i]\n",
    "      \n",
    "        if processed[test_coord[0]][test_coord[1]] != 1:           \n",
    "            val = abs_dst[test_coord[0]][test_coord[1]]\n",
    "            if val != 0 and val <= thresh:\n",
    "                processed[test_coord[0]][test_coord[1]] = 1\n",
    "                toprocess.append(test_coord)\n",
    "\n",
    "# Mask original\n",
    "final_img = cv2.bitwise_and(mask,img_orig)\n",
    "\n",
    "plt.figure()\n",
    "plt.xticks([]),plt.yticks([])\n",
    "plt.imshow(mask,'gray')\n",
    "plt.show()\n",
    "\n",
    "plt.figure()\n",
    "plt.xticks([]),plt.yticks([])\n",
    "plt.imshow(img_orig,'gray')\n",
    "plt.show()\n",
    "\n",
    "plt.figure()\n",
    "plt.xticks([]),plt.yticks([])\n",
    "plt.imshow(final_img,'gray')\n",
    "plt.show()"
   ]
  }
 ],
 "metadata": {
  "kernelspec": {
   "display_name": "Python 3",
   "language": "python",
   "name": "python3"
  },
  "language_info": {
   "codemirror_mode": {
    "name": "ipython",
    "version": 3
   },
   "file_extension": ".py",
   "mimetype": "text/x-python",
   "name": "python",
   "nbconvert_exporter": "python",
   "pygments_lexer": "ipython3",
   "version": "3.7.8"
  }
 },
 "nbformat": 4,
 "nbformat_minor": 4
}
